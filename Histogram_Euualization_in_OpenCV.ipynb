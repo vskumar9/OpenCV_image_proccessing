{
 "cells": [
  {
   "cell_type": "code",
   "execution_count": 4,
   "id": "c83f9da6",
   "metadata": {},
   "outputs": [
    {
     "data": {
      "text/plain": [
       "-1"
      ]
     },
     "execution_count": 4,
     "metadata": {},
     "output_type": "execute_result"
    }
   ],
   "source": [
    "import cv2 as cv\n",
    "import numpy as np\n",
    "\n",
    "img=cv.imread(\"sanjeev.jpg\",0)\n",
    "img=cv.resize(img,(800,600))\n",
    "\n",
    "#increase the intensity of the image equalized histogram \n",
    "eql=cv.equalizeHist(img)\n",
    "#merge the both images\n",
    "image=np.hstack((img,eql))\n",
    "\n",
    "#cv.imshow(\"original\",img)\n",
    "#cv.imshow(\"equalized_image\",eql)\n",
    "cv.imshow(\"original\",image)\n",
    "\n",
    "cv.waitKey(0)"
   ]
  },
  {
   "cell_type": "code",
   "execution_count": 10,
   "id": "05f85606",
   "metadata": {},
   "outputs": [
    {
     "data": {
      "text/plain": [
       "-1"
      ]
     },
     "execution_count": 10,
     "metadata": {},
     "output_type": "execute_result"
    }
   ],
   "source": [
    "import cv2 as cv\n",
    "import numpy as np\n",
    "\n",
    "img=cv.imread(\"sanjeev.jpg\")\n",
    "img=cv.resize(img,(800,600))\n",
    "\n",
    "img=cv.cvtColor(img,cv.COLOR_BGR2GRAY)\n",
    "\n",
    "#more increase the intensity of the image,this is working gray images.\n",
    "clahe=cv.createCLAHE(clipLimit=5)\n",
    "\n",
    "#applying the clahe in image \n",
    "final_img=clahe.apply(img)\n",
    "\n",
    "cv.imshow(\"final_image\",final_img)\n",
    "\n",
    "cv.waitKey(0)"
   ]
  },
  {
   "cell_type": "code",
   "execution_count": null,
   "id": "1037ad99",
   "metadata": {},
   "outputs": [],
   "source": []
  }
 ],
 "metadata": {
  "kernelspec": {
   "display_name": "Python 3 (ipykernel)",
   "language": "python",
   "name": "python3"
  },
  "language_info": {
   "codemirror_mode": {
    "name": "ipython",
    "version": 3
   },
   "file_extension": ".py",
   "mimetype": "text/x-python",
   "name": "python",
   "nbconvert_exporter": "python",
   "pygments_lexer": "ipython3",
   "version": "3.9.12"
  }
 },
 "nbformat": 4,
 "nbformat_minor": 5
}
