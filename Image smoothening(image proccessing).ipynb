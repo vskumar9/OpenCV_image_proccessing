{
 "cells": [
  {
   "cell_type": "code",
   "execution_count": 1,
   "id": "53fdc12c",
   "metadata": {},
   "outputs": [
    {
     "data": {
      "text/plain": [
       "-1"
      ]
     },
     "execution_count": 1,
     "metadata": {},
     "output_type": "execute_result"
    }
   ],
   "source": [
    "import cv2 as cv\n",
    "import numpy as np\n",
    "#importinng the libraries\n",
    "\n",
    "img=cv.imread('DSC_0076.jpg')\n",
    "#reading the image\n",
    "\n",
    "img=cv.resize(img,(1000,600))\n",
    "#resize the original image\n",
    "\n",
    "blur=cv.blur(img,(1,1))\n",
    "\n",
    "\n",
    "cv.imshow(\"original\",img)\n",
    "cv.imshow(\"blurred_image\",blur)\n",
    "#showing the now window on the desktop\n",
    "\n",
    "cv.waitKey(0)\n",
    "#waiting on the image"
   ]
  },
  {
   "cell_type": "code",
   "execution_count": 11,
   "id": "c683e71b",
   "metadata": {},
   "outputs": [
    {
     "data": {
      "text/plain": [
       "-1"
      ]
     },
     "execution_count": 11,
     "metadata": {},
     "output_type": "execute_result"
    }
   ],
   "source": [
    "import cv2 as cv\n",
    "import numpy as np\n",
    "#importinng the libraries\n",
    "\n",
    "img=cv.imread(r'C:\\Users\\wwwvs\\Pictures\\Camera Roll\\SAI KUMAR REDDY.jpg')\n",
    "#reading the image\n",
    "\n",
    "#img=cv.resize(img,(1000,600))\n",
    "#resize the original image \n",
    "\n",
    "cv.imshow(\"original\",img)\n",
    "#showing the now window on the desktop\n",
    "\n",
    "cv.waitKey(0)\n",
    "#waiting on the image"
   ]
  },
  {
   "cell_type": "code",
   "execution_count": 15,
   "id": "ed1b495b",
   "metadata": {},
   "outputs": [
    {
     "data": {
      "text/plain": [
       "-1"
      ]
     },
     "execution_count": 15,
     "metadata": {},
     "output_type": "execute_result"
    }
   ],
   "source": [
    "import cv2 as cv\n",
    "import numpy as np\n",
    "#importinng the libraries\n",
    "\n",
    "img=cv.imread('DSC_0076.jpg')\n",
    "#reading the image\n",
    "\n",
    "img=cv.resize(img,(1000,600))\n",
    "#resize the original image\n",
    "\n",
    "blur=cv.GaussianBlur(img,(99,99),50)\n",
    "\n",
    "\n",
    "cv.imshow(\"original\",img)\n",
    "cv.imshow(\"blurred_image\",blur)\n",
    "#showing the now window on the desktop\n",
    "\n",
    "cv.waitKey(0)\n",
    "#waiting on the image"
   ]
  },
  {
   "cell_type": "code",
   "execution_count": 16,
   "id": "5ffb49fc",
   "metadata": {},
   "outputs": [
    {
     "data": {
      "text/plain": [
       "-1"
      ]
     },
     "execution_count": 16,
     "metadata": {},
     "output_type": "execute_result"
    }
   ],
   "source": [
    "import cv2 as cv\n",
    "import numpy as np\n",
    "#importinng the libraries\n",
    "\n",
    "img=cv.imread('DSC_0076.jpg')\n",
    "#reading the image\n",
    "\n",
    "img=cv.resize(img,(1000,600))\n",
    "#resize the original image\n",
    "\n",
    "blur=cv.medianBlur(img,9)\n",
    "\n",
    "\n",
    "cv.imshow(\"original\",img)\n",
    "cv.imshow(\"blurred_image\",blur)\n",
    "#showing the now window on the desktop\n",
    "\n",
    "cv.waitKey(0)\n",
    "#waiting on the image"
   ]
  },
  {
   "cell_type": "code",
   "execution_count": 1,
   "id": "cff61f77",
   "metadata": {},
   "outputs": [
    {
     "data": {
      "text/plain": [
       "-1"
      ]
     },
     "execution_count": 1,
     "metadata": {},
     "output_type": "execute_result"
    }
   ],
   "source": [
    "import cv2 as cv\n",
    "import numpy as np\n",
    "#importinng the libraries\n",
    "\n",
    "img=cv.imread('DSC_0076.jpg')\n",
    "#reading the image\n",
    "\n",
    "img=cv.resize(img,(1000,600))\n",
    "#resize the original image\n",
    "\n",
    "filt=cv.bilateralFilter(img,100,75,75)\n",
    "\n",
    "\n",
    "cv.imshow(\"original\",img)\n",
    "cv.imshow(\"filter_image\",filt)\n",
    "#showing the now window on the desktop\n",
    "\n",
    "cv.waitKey(0)\n",
    "#waiting on the image"
   ]
  },
  {
   "cell_type": "code",
   "execution_count": null,
   "id": "add78801",
   "metadata": {},
   "outputs": [],
   "source": []
  }
 ],
 "metadata": {
  "kernelspec": {
   "display_name": "Python 3 (ipykernel)",
   "language": "python",
   "name": "python3"
  },
  "language_info": {
   "codemirror_mode": {
    "name": "ipython",
    "version": 3
   },
   "file_extension": ".py",
   "mimetype": "text/x-python",
   "name": "python",
   "nbconvert_exporter": "python",
   "pygments_lexer": "ipython3",
   "version": "3.9.12"
  }
 },
 "nbformat": 4,
 "nbformat_minor": 5
}
