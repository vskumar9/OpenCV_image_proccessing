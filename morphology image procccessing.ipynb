{
 "cells": [
  {
   "cell_type": "code",
   "execution_count": 8,
   "id": "2d6a4f2f",
   "metadata": {},
   "outputs": [
    {
     "data": {
      "text/plain": [
       "-1"
      ]
     },
     "execution_count": 8,
     "metadata": {},
     "output_type": "execute_result"
    }
   ],
   "source": [
    "import cv2 as cv\n",
    "import numpy as np\n",
    "\n",
    "img=cv.imread(\"DSC_0076.jpg\")\n",
    "gray=cv.cvtColor(img,cv.COLOR_BGR2GRAY)\n",
    "\n",
    "img=cv.resize(gray,(1000,600))\n",
    "\n",
    "kernal=np.ones((5,5),np.uint8)\n",
    "\n",
    "dilation=cv.dilate(img,kernal)\n",
    "\n",
    "cv.imshow(\"dialation\",dilation)\n",
    "cv.imshow(\"original \",img)\n",
    "\n",
    "cv.waitKey(0)"
   ]
  },
  {
   "cell_type": "code",
   "execution_count": 1,
   "id": "245384a6",
   "metadata": {},
   "outputs": [
    {
     "data": {
      "text/plain": [
       "-1"
      ]
     },
     "execution_count": 1,
     "metadata": {},
     "output_type": "execute_result"
    }
   ],
   "source": [
    "import cv2 as cv\n",
    "import numpy as np\n",
    "\n",
    "img=cv.imread(\"DSC_0076.jpg\")\n",
    "gray=cv.cvtColor(img,cv.COLOR_BGR2GRAY)\n",
    "\n",
    "img=cv.resize(gray,(1000,600))\n",
    "\n",
    "kernal=np.ones((5,5),np.uint8)\n",
    "\n",
    "erosion=cv.erode(img,kernal)\n",
    "\n",
    "cv.imshow(\"erosin\",erosion)\n",
    "cv.imshow(\"original \",img)\n",
    "\n",
    "cv.waitKey(0)"
   ]
  },
  {
   "cell_type": "code",
   "execution_count": 5,
   "id": "93d45a80",
   "metadata": {},
   "outputs": [
    {
     "data": {
      "text/plain": [
       "50"
      ]
     },
     "execution_count": 5,
     "metadata": {},
     "output_type": "execute_result"
    }
   ],
   "source": [
    "import cv2 as cv\n",
    "import numpy as np\n",
    "\n",
    "img=cv.imread(\"DSC_0076.jpg\")\n",
    "gray=cv.cvtColor(img,cv.COLOR_BGR2GRAY)\n",
    "\n",
    "img=cv.resize(gray,(1000,600))\n",
    "\n",
    "kernal=np.ones((5,5),np.uint8)\n",
    "\n",
    "morphology=cv.morphologyEx(img,cv.MORPH_OPEN,kernal)\n",
    "\n",
    "cv.imshow(\"morphology\",morphology)\n",
    "cv.imshow(\"original \",img)\n",
    "\n",
    "cv.waitKey(0)"
   ]
  },
  {
   "cell_type": "code",
   "execution_count": 1,
   "id": "6e39e1f6",
   "metadata": {},
   "outputs": [
    {
     "data": {
      "text/plain": [
       "-1"
      ]
     },
     "execution_count": 1,
     "metadata": {},
     "output_type": "execute_result"
    }
   ],
   "source": [
    "import cv2 as cv\n",
    "import numpy as np\n",
    "\n",
    "img=cv.imread(\"DSC_0076.jpg\")\n",
    "gray=cv.cvtColor(img,cv.COLOR_BGR2GRAY)\n",
    "\n",
    "img=cv.resize(gray,(1000,600))\n",
    "\n",
    "kernal=np.ones((5,5),np.uint8)\n",
    "\n",
    "morphology=cv.morphologyEx(img,cv.MORPH_CLOSE,kernal)\n",
    "\n",
    "cv.imshow(\"morphology\",morphology)\n",
    "cv.imshow(\"original \",img)\n",
    "\n",
    "cv.waitKey(0)"
   ]
  },
  {
   "cell_type": "code",
   "execution_count": null,
   "id": "090fdad8",
   "metadata": {},
   "outputs": [],
   "source": [
    "import cv2 as cv\n",
    "import numpy as np\n",
    "\n",
    "img=cv.imread(\"DSC_0076.jpg\")\n",
    "gray=cv.cvtColor(img,cv.COLOR_BGR2GRAY)\n",
    "\n",
    "img=cv.resize(gray,(1000,600))\n",
    "\n",
    "kernal=np.ones((5,5),np.uint8)\n",
    "\n",
    "morphology=cv.morphologyEx(img,cv.MORPH_GRADIENT,kernal)\n",
    "\n",
    "cv.imshow(\"morphology\",morphology)\n",
    "cv.imshow(\"original \",img)\n",
    "\n",
    "cv.waitKey(0)"
   ]
  }
 ],
 "metadata": {
  "kernelspec": {
   "display_name": "Python 3 (ipykernel)",
   "language": "python",
   "name": "python3"
  },
  "language_info": {
   "codemirror_mode": {
    "name": "ipython",
    "version": 3
   },
   "file_extension": ".py",
   "mimetype": "text/x-python",
   "name": "python",
   "nbconvert_exporter": "python",
   "pygments_lexer": "ipython3",
   "version": "3.9.12"
  }
 },
 "nbformat": 4,
 "nbformat_minor": 5
}
