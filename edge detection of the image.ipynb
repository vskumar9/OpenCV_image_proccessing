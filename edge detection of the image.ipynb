{
 "cells": [
  {
   "cell_type": "code",
   "execution_count": 7,
   "id": "03863c75",
   "metadata": {},
   "outputs": [
    {
     "data": {
      "text/plain": [
       "-1"
      ]
     },
     "execution_count": 7,
     "metadata": {},
     "output_type": "execute_result"
    }
   ],
   "source": [
    "import cv2 as cv\n",
    "import numpy as np\n",
    "#importinng the libraries\n",
    "\n",
    "img=cv.imread('DSC_0076.jpg')\n",
    "#reading the image\n",
    "\n",
    "img=cv.resize(img,(1000,600))\n",
    "#resize the original image\n",
    "\n",
    "gray=cv.cvtColor(img,cv.COLOR_BGR2GRAY)\n",
    "sobelx=cv.Sobel(gray,cv.CV_64F,1,0,ksize=5)\n",
    "sobely=cv.Sobel(gray,cv.CV_64F,0,1,ksize=5)\n",
    "#cv.imshow(\"x-image\",sobelx)\n",
    "#cv.imshow(\"y-image\",sobely)\n",
    "\n",
    "laplacian=cv.Laplacian(gray,cv.CV_64F)\n",
    "#cv.imshow(\"laplacian_image\",laplacian)\n",
    "\n",
    "blur=cv.GaussianBlur(img,(1,1),0)\n",
    "#img or gray our choice in the blur image \n",
    "\n",
    "canny=cv.Canny(blur,100,200)\n",
    "cv.imshow(\"edges\",canny)\n",
    "#detecting the edges from the image\n",
    "\n",
    "\n",
    "cv.imshow(\"GRAY_IMG\",gray)\n",
    "#showing the now window on the desktop\n",
    "\n",
    "cv.waitKey(0)\n",
    "#waiting on the image"
   ]
  },
  {
   "cell_type": "code",
   "execution_count": null,
   "id": "7daf7ec0",
   "metadata": {},
   "outputs": [],
   "source": []
  }
 ],
 "metadata": {
  "kernelspec": {
   "display_name": "Python 3 (ipykernel)",
   "language": "python",
   "name": "python3"
  },
  "language_info": {
   "codemirror_mode": {
    "name": "ipython",
    "version": 3
   },
   "file_extension": ".py",
   "mimetype": "text/x-python",
   "name": "python",
   "nbconvert_exporter": "python",
   "pygments_lexer": "ipython3",
   "version": "3.9.12"
  }
 },
 "nbformat": 4,
 "nbformat_minor": 5
}
