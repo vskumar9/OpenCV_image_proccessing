{
 "cells": [
  {
   "cell_type": "code",
   "execution_count": 2,
   "id": "7d93a552",
   "metadata": {},
   "outputs": [],
   "source": [
    "import cv2 as cv\n",
    "\n",
    "#video capture\n",
    "cap=cv.VideoCapture(0)\n",
    "\n",
    "#video access true\n",
    "while(True):\n",
    "    #camera capture reading\n",
    "    res,vid=cap.read()\n",
    "    #camera showing\n",
    "    cv.imshow(\"frame\",vid)\n",
    "    #if click \"q\" will window close\n",
    "    if cv.waitKey(25)&0xFF==ord('q'):\n",
    "        break\n",
    "cap.release()\n",
    "cv.destroyAllWindows()"
   ]
  },
  {
   "cell_type": "code",
   "execution_count": null,
   "id": "c4104eef",
   "metadata": {},
   "outputs": [],
   "source": [
    "import cv2 as cv\n",
    "\n",
    "cap=cv.VideoCapture(\"sample_video.mp4\")\n",
    "res,vid=cap.read()\n",
    "\n",
    "count=0\n",
    "frame_list=[]\n",
    "\n",
    "while(res==True):\n",
    "    #save the every frame in currently working directory\n",
    "    cv.imwrite(\"reverse%d.jpg\"%count,vid)\n",
    "    #read the video\n",
    "    res,vid=cap.read()\n",
    "    #every frame add frame_list\n",
    "    frame_list.append(vid)\n",
    "    #counting the frames\n",
    "    count+=1\n",
    "#pop the list\n",
    "frame_list.pop()\n",
    "\n",
    "#looping the each frame\n",
    "for frame in frame_list:\n",
    "    #show every frame loop \n",
    "    cv.imshow(\"framw\",frame)\n",
    "    #click on \"q\" end the loop\n",
    "    if cv.waitKey(25)&0xFF==ord('q'):\n",
    "        break\n",
    "#caputure close\n",
    "cap.release()\n",
    "#distroy all frames\n",
    "cv.destroyAllWindows()\n",
    "\n",
    "#The video reverse \n",
    "frame_list.reverse()\n",
    "\n",
    "for frame in frame_list:\n",
    "    #playing video reverse\n",
    "    cv.imshow(\"frame_reverse\",frame)\n",
    "    #click on \"q\" end the loop\n",
    "    if cv.waitKey(25)&0xFF==ord('q'):\n",
    "        break\n",
    "#caputure close\n",
    "cap.release()\n",
    "#distroy all frames\n",
    "cv.destroyAllWindows()"
   ]
  },
  {
   "cell_type": "code",
   "execution_count": null,
   "id": "224fa23b",
   "metadata": {},
   "outputs": [],
   "source": []
  },
  {
   "cell_type": "code",
   "execution_count": null,
   "id": "e3985002",
   "metadata": {},
   "outputs": [],
   "source": []
  },
  {
   "cell_type": "code",
   "execution_count": null,
   "id": "743b399c",
   "metadata": {},
   "outputs": [],
   "source": []
  }
 ],
 "metadata": {
  "kernelspec": {
   "display_name": "Python 3 (ipykernel)",
   "language": "python",
   "name": "python3"
  },
  "language_info": {
   "codemirror_mode": {
    "name": "ipython",
    "version": 3
   },
   "file_extension": ".py",
   "mimetype": "text/x-python",
   "name": "python",
   "nbconvert_exporter": "python",
   "pygments_lexer": "ipython3",
   "version": "3.9.12"
  }
 },
 "nbformat": 4,
 "nbformat_minor": 5
}
