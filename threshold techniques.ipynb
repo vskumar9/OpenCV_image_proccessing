{
 "cells": [
  {
   "cell_type": "code",
   "execution_count": 7,
   "id": "f9238295",
   "metadata": {},
   "outputs": [
    {
     "data": {
      "text/plain": [
       "-1"
      ]
     },
     "execution_count": 7,
     "metadata": {},
     "output_type": "execute_result"
    }
   ],
   "source": [
    "import cv2 as cv\n",
    "import numpy as np\n",
    "\n",
    "img =cv.imread(\"sanjeev.jpg\")\n",
    "img=cv.cvtColor(img,cv.COLOR_BGR2GRAY)\n",
    "img=cv.resize(img,(1000,600))\n",
    "\n",
    "\n",
    "ret,thresh=cv.threshold(img,125,255,cv.THRESH_BINARY)\n",
    "ret,thresh1=cv.threshold(img,125,255,cv.THRESH_BINARY_INV)\n",
    "\n",
    "\n",
    "\n",
    "cv.imshow(\"thresh_binary\",thresh)\n",
    "cv.imshow(\"thresh_binary1\",thresh1)\n",
    "\n",
    "cv.waitKey(0)"
   ]
  },
  {
   "cell_type": "code",
   "execution_count": 6,
   "id": "5a0a30ec",
   "metadata": {},
   "outputs": [
    {
     "data": {
      "text/plain": [
       "-1"
      ]
     },
     "execution_count": 6,
     "metadata": {},
     "output_type": "execute_result"
    }
   ],
   "source": [
    "ret,thresh2=cv.threshold(img,125,255,cv.THRESH_TRUNC)\n",
    "\n",
    "cv.imshow(\"trunc\",thresh2)\n",
    "\n",
    "cv.waitKey(0)"
   ]
  },
  {
   "cell_type": "code",
   "execution_count": 12,
   "id": "f5928512",
   "metadata": {},
   "outputs": [
    {
     "data": {
      "text/plain": [
       "-1"
      ]
     },
     "execution_count": 12,
     "metadata": {},
     "output_type": "execute_result"
    }
   ],
   "source": [
    "ret,thresh3=cv.threshold(img,125,255,cv.THRESH_TOZERO)\n",
    "\n",
    "cv.imshow(\"to zero\",thresh3)\n",
    "\n",
    "cv.waitKey(0)"
   ]
  },
  {
   "cell_type": "code",
   "execution_count": 13,
   "id": "fecb7f02",
   "metadata": {},
   "outputs": [
    {
     "data": {
      "text/plain": [
       "-1"
      ]
     },
     "execution_count": 13,
     "metadata": {},
     "output_type": "execute_result"
    }
   ],
   "source": [
    "ret,threshold4=cv.threshold(img,125,255,cv.THRESH_TOZERO_INV)\n",
    "\n",
    "cv.imshow(\"zero inv\",threshold4)\n",
    "\n",
    "cv.waitKey(0)"
   ]
  },
  {
   "cell_type": "code",
   "execution_count": null,
   "id": "dd1b44fc",
   "metadata": {},
   "outputs": [],
   "source": []
  }
 ],
 "metadata": {
  "kernelspec": {
   "display_name": "Python 3 (ipykernel)",
   "language": "python",
   "name": "python3"
  },
  "language_info": {
   "codemirror_mode": {
    "name": "ipython",
    "version": 3
   },
   "file_extension": ".py",
   "mimetype": "text/x-python",
   "name": "python",
   "nbconvert_exporter": "python",
   "pygments_lexer": "ipython3",
   "version": "3.9.12"
  }
 },
 "nbformat": 4,
 "nbformat_minor": 5
}
