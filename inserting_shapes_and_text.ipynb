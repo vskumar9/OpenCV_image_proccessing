{
 "cells": [
  {
   "cell_type": "code",
   "execution_count": 4,
   "id": "88101147",
   "metadata": {},
   "outputs": [
    {
     "data": {
      "text/plain": [
       "-1"
      ]
     },
     "execution_count": 4,
     "metadata": {},
     "output_type": "execute_result"
    }
   ],
   "source": [
    "import cv2 as cv\n",
    "import numpy as np\n",
    "\n",
    "img = np.zeros((400,400,3),np.uint8)\n",
    "#size-400,400 channel-3,datatype-uint8\n",
    "\n",
    "cv.circle(img,(180,170),80,(0,0,255),2)\n",
    "#img,center of the circle,radius,color,thickness\n",
    "\n",
    "cv.imshow(\"circle on dark_image\",img)\n",
    "\n",
    "cv.waitKey(0)"
   ]
  },
  {
   "cell_type": "code",
   "execution_count": 9,
   "id": "c5f86394",
   "metadata": {},
   "outputs": [
    {
     "data": {
      "text/plain": [
       "0"
      ]
     },
     "execution_count": 9,
     "metadata": {},
     "output_type": "execute_result"
    }
   ],
   "source": [
    "import cv2 as cv\n",
    "import numpy as np\n",
    "\n",
    "img = np.zeros((400,400,3),np.uint8)\n",
    "#size-400,400 channel-3,datatype-uint8\n",
    "\n",
    "cv.rectangle(img,(200,300),(390,390),(0,0,255),2)\n",
    "#img,center of the circle,radius,color,thickness\n",
    "\n",
    "cv.imshow(\"circle on dark_image\",img)\n",
    "\n",
    "cv.waitKey(0)"
   ]
  },
  {
   "cell_type": "code",
   "execution_count": 4,
   "id": "97df95f2",
   "metadata": {},
   "outputs": [
    {
     "data": {
      "text/plain": [
       "-1"
      ]
     },
     "execution_count": 4,
     "metadata": {},
     "output_type": "execute_result"
    }
   ],
   "source": [
    "import cv2 as cv\n",
    "import numpy as np\n",
    "\n",
    "img = np.zeros((400,400,3),np.uint8)\n",
    "#size-400,400 channel-3,datatype-uint8\n",
    "\n",
    "cv.line(img,(200,300),(390,300),(0,0,255),2)\n",
    "#img,center of the circle,radius,color,thickness\n",
    "\n",
    "cv.imshow(\"circle on dark_image\",img)\n",
    "\n",
    "cv.waitKey(0)"
   ]
  },
  {
   "cell_type": "code",
   "execution_count": 8,
   "id": "a906b23c",
   "metadata": {},
   "outputs": [
    {
     "data": {
      "text/plain": [
       "-1"
      ]
     },
     "execution_count": 8,
     "metadata": {},
     "output_type": "execute_result"
    }
   ],
   "source": [
    "import cv2 as cv\n",
    "import numpy as np\n",
    "\n",
    "img = np.zeros((400,400,3),np.uint8)\n",
    "#size-400,400 channel-3,datatype-uint8\n",
    "\n",
    "font=cv.FONT_HERSHEY_SIMPLEX\n",
    "cv.putText(img,\"OpenCV\",(10,300),font,2,(0,0,255),1,cv2.LINE_AA,True)\n",
    "\"\"\" In putText parameters image, text, coordinates, font, fontScale, Color, thickness, LineType, bottomLeftOrigin\n",
    "#cv.putText(img,\"OpenCV\",(10,300),font,2,(0,0,255),1,cv2.LINE_AA,False)\n",
    "#img,center of the circle,radius,color,thickness\"\"\"\n",
    "\n",
    "cv.imshow(\"circle on dark_image\",img)\n",
    "\n",
    "cv.waitKey(0)"
   ]
  },
  {
   "cell_type": "code",
   "execution_count": 2,
   "id": "8d70cbc3",
   "metadata": {},
   "outputs": [
    {
     "data": {
      "text/plain": [
       "-1"
      ]
     },
     "execution_count": 2,
     "metadata": {},
     "output_type": "execute_result"
    }
   ],
   "source": [
    "import cv2\n",
    "    \n",
    "# Window name in which image is displayed\n",
    "window_name = 'Image'\n",
    "  \n",
    "# font\n",
    "font = cv2.FONT_HERSHEY_SIMPLEX\n",
    "  \n",
    "# org\n",
    "org = (50, 50)\n",
    "  \n",
    "# fontScale\n",
    "fontScale = 1\n",
    "   \n",
    "# Blue color in BGR\n",
    "color = (255, 0, 0)\n",
    "  \n",
    "# Line thickness of 2 px\n",
    "thickness = 2\n",
    "   \n",
    "# Using cv2.putText() method\n",
    "image = cv2.putText(cv2.imread(\"hand.jpg\"), 'OpenCV', org, font, fontScale, color, thickness, cv2.LINE_AA)\n",
    "   \n",
    "# Displaying the image\n",
    "cv2.imshow(window_name, image)\n",
    "\n",
    "cv2.waitKey(0)"
   ]
  },
  {
   "cell_type": "code",
   "execution_count": null,
   "id": "a3b59b22",
   "metadata": {},
   "outputs": [],
   "source": []
  }
 ],
 "metadata": {
  "kernelspec": {
   "display_name": "Python 3 (ipykernel)",
   "language": "python",
   "name": "python3"
  },
  "language_info": {
   "codemirror_mode": {
    "name": "ipython",
    "version": 3
   },
   "file_extension": ".py",
   "mimetype": "text/x-python",
   "name": "python",
   "nbconvert_exporter": "python",
   "pygments_lexer": "ipython3",
   "version": "3.9.12"
  }
 },
 "nbformat": 4,
 "nbformat_minor": 5
}
