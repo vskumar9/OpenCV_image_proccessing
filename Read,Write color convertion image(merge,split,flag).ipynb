{
 "cells": [
  {
   "cell_type": "code",
   "execution_count": 23,
   "id": "14c95e5d",
   "metadata": {},
   "outputs": [
    {
     "data": {
      "text/plain": [
       "-1"
      ]
     },
     "execution_count": 23,
     "metadata": {},
     "output_type": "execute_result"
    }
   ],
   "source": [
    "import cv2 as cv\n",
    "import numpy as np\n",
    "\n",
    "img=cv.imread(r\"C:\\Users\\wwwvs\\Pictures\\ahobilam pic\\DSC_0075.jpg\")\n",
    "#different directory image to reading of the cv2 package must and should to directory \n",
    "#location and starting 'r' is important in a imread() function\n",
    "cv.imshow(\"sanjeev_pic\",img)\n",
    "#this funtionn is the using to showing new window to display of the image \n",
    "cv.waitKey(0)\n",
    "#image holding this function"
   ]
  },
  {
   "cell_type": "code",
   "execution_count": 28,
   "id": "170259e1",
   "metadata": {},
   "outputs": [
    {
     "data": {
      "text/plain": [
       "-1"
      ]
     },
     "execution_count": 28,
     "metadata": {},
     "output_type": "execute_result"
    }
   ],
   "source": [
    "import cv2 as cv\n",
    "import numpy as np\n",
    "\n",
    "img=cv.imread(\"DSC_0076.jpg\")\n",
    "#It not important to the same directory save the same file that only to image name \n",
    "# using to worrking in this program\n",
    "\n",
    "gray=cv.cvtColor(img,cv.COLOR_BGR2GRAY)\n",
    "#To change to the color convert to BGR_GRAY that to change normal color to gray image\n",
    "\n",
    "hsv=cv.cvtColor(img,cv.COLOR_BGR2HSV)\n",
    "#To change to the color convert to BGR_HSV that to change normal color to HSV image\n",
    "\n",
    "cv.imwrite(\"GRAY_sanjeev.jpg\",gray)\n",
    "#This is save the image same directory to save.\n",
    "\n",
    "cv.imwrite(\"HSV_sanjeev.jpg\",hsv)\n",
    "#This is save the image same directory to save.\n",
    "\n",
    "cv.imshow(\"GRAY_sanjeev_pic\",gray)\n",
    "#This funtionn is the using to showing new window to display of the image \n",
    "\n",
    "cv.imshow(\"HSV_sanjeev_pic\",hsv)\n",
    "#This funtionn is the using to showing new window to display of the image\n",
    "\n",
    "cv.waitKey(0)\n",
    "#Image holding this function\n",
    "\n"
   ]
  },
  {
   "cell_type": "code",
   "execution_count": 32,
   "id": "5bb11be4",
   "metadata": {},
   "outputs": [
    {
     "data": {
      "text/plain": [
       "-1"
      ]
     },
     "execution_count": 32,
     "metadata": {},
     "output_type": "execute_result"
    }
   ],
   "source": [
    "import cv2 as cv\n",
    "import numpy as np\n",
    "\n",
    "img=cv.imread(\"DSC_0076.jpg\",1)\n",
    "#flag concept to change to the image color convertion\n",
    "\n",
    "cv.imshow(\"image\",img)\n",
    "#This funtionn is the using to showing new window to display of the image \n",
    "\n",
    "cv.waitKey(0)\n",
    "#Image holding this function"
   ]
  },
  {
   "cell_type": "code",
   "execution_count": 37,
   "id": "07011f92",
   "metadata": {},
   "outputs": [
    {
     "data": {
      "text/plain": [
       "-1"
      ]
     },
     "execution_count": 37,
     "metadata": {},
     "output_type": "execute_result"
    }
   ],
   "source": [
    "import cv2 as cv\n",
    "import numpy as np\n",
    "\n",
    "img=cv.imread(\"DSC_0076.jpg\",1)\n",
    "\n",
    "#cv.imshow(\"original\",img)\n",
    "#original image to show difference to below images\n",
    "\n",
    "r,b,g=cv.split(img)\n",
    "#divide to split color in image\n",
    "\n",
    "cv.imshow(\"red\",r)\n",
    "#split image color red\n",
    "\n",
    "cv.imshow(\"green\",g)\n",
    "#split image color green\n",
    "\n",
    "cv.imshow(\"blue\",b)\n",
    "#split image color blue\n",
    "\n",
    "merge_image=cv.merge([r,b,g])\n",
    "#merge to the all RBG colors to add in one image to showing\n",
    "cv.imshow(\"merge_image\",merge_image)\n",
    "#Display to the merge image in the desktop/new window\n",
    "\n",
    "cv.waitKey(0)\n",
    "#Image holding this function"
   ]
  }
 ],
 "metadata": {
  "kernelspec": {
   "display_name": "Python 3 (ipykernel)",
   "language": "python",
   "name": "python3"
  },
  "language_info": {
   "codemirror_mode": {
    "name": "ipython",
    "version": 3
   },
   "file_extension": ".py",
   "mimetype": "text/x-python",
   "name": "python",
   "nbconvert_exporter": "python",
   "pygments_lexer": "ipython3",
   "version": "3.9.12"
  }
 },
 "nbformat": 4,
 "nbformat_minor": 5
}
