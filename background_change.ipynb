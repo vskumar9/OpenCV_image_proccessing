{
 "cells": [
  {
   "cell_type": "code",
   "execution_count": null,
   "id": "51987405",
   "metadata": {},
   "outputs": [],
   "source": [
    "import cv2 as cv\n",
    "import numpy\n",
    "\n",
    "cap=cv.VideoCapture(0)\n",
    "fgbg=cv.createBackgroundSubtractorMOG2()\n",
    "\n",
    "while(1):\n",
    "    res,img=cap.read()\n",
    "    fgmask=fgbg.apply(img)\n",
    "    \n",
    "    cv.imshow(\"original\",img)\n",
    "    cv.imshow(\"fgmask\",fgmask)\n",
    "    \n",
    "    k=cv.waitKey(0)& 0xff\n",
    "    if k==27:\n",
    "        break\n",
    "cv.release()\n",
    "cv.destroyAllWindows()"
   ]
  },
  {
   "cell_type": "code",
   "execution_count": 6,
   "id": "a0094563",
   "metadata": {},
   "outputs": [
    {
     "ename": "NameError",
     "evalue": "name 'fgmask' is not defined",
     "output_type": "error",
     "traceback": [
      "\u001b[1;31m---------------------------------------------------------------------------\u001b[0m",
      "\u001b[1;31mNameError\u001b[0m                                 Traceback (most recent call last)",
      "Input \u001b[1;32mIn [6]\u001b[0m, in \u001b[0;36m<cell line: 13>\u001b[1;34m()\u001b[0m\n\u001b[0;32m     15\u001b[0m fgmask1\u001b[38;5;241m=\u001b[39mfgbg1\u001b[38;5;241m.\u001b[39mapply(img)\n\u001b[0;32m     16\u001b[0m \u001b[38;5;66;03m#fgmask2=fgbg2.apply(img)\u001b[39;00m\n\u001b[0;32m     17\u001b[0m \n\u001b[0;32m     18\u001b[0m \u001b[38;5;66;03m#cv.imshow(\"fgmask\",fgmask2)\u001b[39;00m\n\u001b[1;32m   (...)\u001b[0m\n\u001b[0;32m     21\u001b[0m \n\u001b[0;32m     22\u001b[0m \u001b[38;5;66;03m#cv.imshow(\"fgmask1\",fgmask1)\u001b[39;00m\n\u001b[1;32m---> 23\u001b[0m cv\u001b[38;5;241m.\u001b[39mimshow(\u001b[38;5;124m\"\u001b[39m\u001b[38;5;124mfgmask\u001b[39m\u001b[38;5;124m\"\u001b[39m,\u001b[43mfgmask\u001b[49m)\n\u001b[0;32m     24\u001b[0m \u001b[38;5;66;03m#cv.imshow(\"original\",img)\u001b[39;00m\n\u001b[0;32m     26\u001b[0m k\u001b[38;5;241m=\u001b[39mcv\u001b[38;5;241m.\u001b[39mwaitKey(\u001b[38;5;241m30\u001b[39m) \u001b[38;5;241m&\u001b[39m \u001b[38;5;241m0xff\u001b[39m\n",
      "\u001b[1;31mNameError\u001b[0m: name 'fgmask' is not defined"
     ]
    }
   ],
   "source": [
    "import cv2 as cv\n",
    "import numpy\n",
    "\n",
    "#kernel=cv.getStructuringElement(cv.MORPH_ELLIPSE,(3,3))\n",
    "\n",
    "cap=cv.VideoCapture(0)\n",
    "\n",
    "#fgbg=cv.bgsegm.createBackgroundSubtractorMOG()\n",
    "fgbg1=cv.createBackgroundSubtractorMOG2()\n",
    "#fgbg2=cv.bgsegm.createBackgroundSubtractorGMG()\n",
    "\n",
    "while(1):\n",
    "    ret,img=cap.read()\n",
    "    #fgmask=fgbg.apply(img)\n",
    "    fgmask1=fgbg1.apply(img)\n",
    "    #fgmask2=fgbg2.apply(img)\n",
    "    \n",
    "    #cv.imshow(\"fgmask\",fgmask2)\n",
    "    \n",
    "    #fgmask2=cv2.morphologyEx(fgmask2,cv.MORPH_OPEN,kernel)\n",
    "    \n",
    "    cv.imshow(\"fgmask1\",fgmask1)\n",
    "    cv.imshow(\"fgmask\",fgmask)\n",
    "    cv.imshow(\"original\",img)\n",
    "    \n",
    "    k=cv.waitKey(30) & 0xff\n",
    "    if k==27:\n",
    "        break\n",
    "\n",
    "cv.release()\n",
    "cv.distroyAllWindows()"
   ]
  }
 ],
 "metadata": {
  "kernelspec": {
   "display_name": "Python 3 (ipykernel)",
   "language": "python",
   "name": "python3"
  },
  "language_info": {
   "codemirror_mode": {
    "name": "ipython",
    "version": 3
   },
   "file_extension": ".py",
   "mimetype": "text/x-python",
   "name": "python",
   "nbconvert_exporter": "python",
   "pygments_lexer": "ipython3",
   "version": "3.9.12"
  }
 },
 "nbformat": 4,
 "nbformat_minor": 5
}
