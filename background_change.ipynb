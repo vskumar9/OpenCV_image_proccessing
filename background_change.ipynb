{
 "cells": [
  {
   "cell_type": "code",
   "execution_count": null,
   "id": "51987405",
   "metadata": {},
   "outputs": [],
   "source": [
    "import cv2 as cv\n",
    "import numpy\n",
    "\n",
    "cap=cv.VideoCapture(0)\n",
    "fgbg=cv.createBackgroundSubtractorMOG2()\n",
    "\n",
    "while(1):\n",
    "    res,img=cap.read()\n",
    "    fgmask=fgbg.apply(img)\n",
    "    \n",
    "    cv.imshow(\"original\",img)\n",
    "    cv.imshow(\"fgmask\",fgmask)\n",
    "    \n",
    "    k=cv.waitKey(0)& 0xff\n",
    "    if k==27:\n",
    "        break\n",
    "cv.release()\n",
    "cv.destroyAllWindows()"
   ]
  },
  {
   "cell_type": "code",
   "execution_count": null,
   "id": "a0094563",
   "metadata": {},
   "outputs": [],
   "source": [
    "import cv2 as cv\n",
    "import numpy as np\n",
    "\n",
    "kernel=cv.getStructuringElement(cv.MORPH_ELLIPSE,(3,3))\n",
    "\n",
    "cap=cv.VideoCapture(0)\n",
    "\n",
    "fgbg=cv.bgsegm.createBackgroundSubtractorMOG()\n",
    "fgbg1=cv.createBackgroundSubtractorMOG2()\n",
    "fgbg2=cv.bgsegm.createBackgroundSubtractorGMG()\n",
    "\n",
    "while(1):\n",
    "    ret,img=cap.read()\n",
    "    fgmask=fgbg.apply(img)\n",
    "    fgmask1=fgbg1.apply(img)\n",
    "    fgmask2=fgbg2.apply(img)\n",
    "    \n",
    "    cv.imshow(\"fgmask\",fgmask2)\n",
    "    \n",
    "    fgmask2=cv2.morphologyEx(fgmask2,cv.MORPH_OPEN,kernel)\n",
    "    \n",
    "    cv.imshow(\"fgmask1\",fgmask1)\n",
    "    cv.imshow(\"fgmask\",fgmask2)\n",
    "    cv.imshow(\"original\",img)\n",
    "    \n",
    "    k=cv.waitKey(30) & 0xff\n",
    "    if k==27:\n",
    "        break\n",
    "\n",
    "cv.release()\n",
    "cv.distroyAllWindows()"
   ]
  },
  {
   "cell_type": "code",
   "execution_count": null,
   "id": "db82cb13",
   "metadata": {},
   "outputs": [],
   "source": [
    "import numpy as np\n",
    "import cv2\n",
    "cap = cv2.VideoCapture('vtest.avi')\n",
    "fgbg = cv2.bgsegm.createBackgroundSubtractorMOG()\n",
    "while(1):\n",
    "    ret, frame = cap.read()\n",
    "    fgmask = fgbg.apply(frame)\n",
    "    cv2.imshow('frame',fgmask)\n",
    "    k = cv2.waitKey(30) & 0xff\n",
    "    if k == 27:\n",
    "        break\n",
    "cap.release()\n",
    "cv2.destroyAllWindows()"
   ]
  }
 ],
 "metadata": {
  "kernelspec": {
   "display_name": "Python 3 (ipykernel)",
   "language": "python",
   "name": "python3"
  },
  "language_info": {
   "codemirror_mode": {
    "name": "ipython",
    "version": 3
   },
   "file_extension": ".py",
   "mimetype": "text/x-python",
   "name": "python",
   "nbconvert_exporter": "python",
   "pygments_lexer": "ipython3",
   "version": "3.9.12"
  }
 },
 "nbformat": 4,
 "nbformat_minor": 5
}
