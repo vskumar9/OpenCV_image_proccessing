{
 "cells": [
  {
   "cell_type": "code",
   "execution_count": 15,
   "id": "495d65b7",
   "metadata": {},
   "outputs": [
    {
     "name": "stdout",
     "output_type": "stream",
     "text": [
      "(6000, 4000)\n",
      "MPO\n",
      "RGB\n"
     ]
    }
   ],
   "source": [
    "from PIL import Image,ImageOps,ImageFilter\n",
    "\n",
    "img=Image.open(\"sanjeev.jpg\")\n",
    "\n",
    "gray=Image.open(\"sanjeev.jpg\").convert(\"L\") #gray color\n",
    "\n",
    "print(img.size)\n",
    "print(img.format)\n",
    "print(img.mode)\n",
    "\n",
    "resize_img=img.resize((500,500))\n",
    "\n",
    "rotate_img=img.rotate(45)\n",
    "\n",
    "flipped_img=ImageOps.flip(img)\n",
    "\n",
    "mirror_img=ImageOps.mirror(img)\n",
    "\n",
    "#img.show()\n",
    "#resize_img.show()\n",
    "#rotate_img.show()\n",
    "#flipped_img.show()\n",
    "#mirror_img.show()\n",
    "\n",
    "#merge image\n",
    "r,g,b=img.split()\n",
    "#img.show()\n",
    "#img=Image.merge(\"RGB\",(b,g,r))#(b,g,r)(g,b,r)(r,b,g)\n",
    "#img.show()\n",
    "\n",
    "#filter:\n",
    "blur=img.filter(ImageFilter.BLUR)\n",
    "gaussian_blur=img.filter(ImageFilter.GaussianBlur(4))\n",
    "Box_filter=img.filter(ImageFilter.BoxBlur(2))\n",
    "\n",
    "#blur.show()\n",
    "#Box_filter.show()\n",
    "\n",
    "\n",
    "#edges:\n",
    "sharp_img=img.filter(ImageFilter.SHARPEN)\n",
    "edge_img=gray.filter(ImageFilter.FIND_EDGES)\n",
    "smooth_img=gray.filter(ImageFilter.SMOOTH)\n",
    "edges_enhance_img=gray.filter(ImageFilter.EDGE_ENHANCE)\n",
    "#edges_enhance_img.show()\n",
    "\n",
    "#contour\n",
    "logo=Image.open(\"sanjeev.jpg\")\n",
    "logo=Image.open(\"sanjeev.jpg\").convert(\"L\")\n",
    "threshold=50\n",
    "logo=logo.point(lambda x:255 if x>threshold else 0)\n",
    "#logo=logo.point(lambda x:0 if x==255 else 255)\n",
    "logo=logo.resize((logo.width//2,logo.height//2))\n",
    "logo=logo.filter(ImageFilter.CONTOUR)\n",
    "logo.show()\n"
   ]
  }
 ],
 "metadata": {
  "kernelspec": {
   "display_name": "Python 3 (ipykernel)",
   "language": "python",
   "name": "python3"
  },
  "language_info": {
   "codemirror_mode": {
    "name": "ipython",
    "version": 3
   },
   "file_extension": ".py",
   "mimetype": "text/x-python",
   "name": "python",
   "nbconvert_exporter": "python",
   "pygments_lexer": "ipython3",
   "version": "3.9.13"
  }
 },
 "nbformat": 4,
 "nbformat_minor": 5
}
