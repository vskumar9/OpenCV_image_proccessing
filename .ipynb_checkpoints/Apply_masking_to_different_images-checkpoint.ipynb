{
 "cells": [
  {
   "cell_type": "code",
   "execution_count": 2,
   "id": "1f13e749",
   "metadata": {},
   "outputs": [
    {
     "data": {
      "text/plain": [
       "array([[  0,   0,   0, ...,   0,   0,   0],\n",
       "       [  0,   0,   0, ...,   0,   0,   0],\n",
       "       [  0,   0, 255, ..., 255, 255, 255],\n",
       "       ...,\n",
       "       [  0,   0,   0, ...,   0,   0,   0],\n",
       "       [  0,   0,   0, ...,   0,   0,   0],\n",
       "       [  0,   0,   0, ...,   0,   0,   0]], dtype=uint8)"
      ]
     },
     "execution_count": 2,
     "metadata": {},
     "output_type": "execute_result"
    }
   ],
   "source": [
    "import cv2 as cv\n",
    "import numpy as np\n",
    "\n",
    "#rectangle=np.zeros((300,300),dtype='uint8')\n",
    "rectangle=np.zeros((1300,1200),dtype='uint8')#size of the window\n",
    "#create a rectangle in using numpy all zeros in a rectangle\n",
    "\n",
    "#cv.rectangle(rectangle,(25,25),(275,275),255,-1)\n",
    "cv.rectangle(rectangle,(2,2),(6000,1000),255,-1)#that window filup the white panel\n",
    "#rectangle ,initial size,start n rigion,white color,-1 while be solid\n",
    "\n",
    "#cv.imshow(\"rectangle\",rectangle)\n",
    "\n",
    "#cv.waitKey(0)"
   ]
  },
  {
   "cell_type": "code",
   "execution_count": 1,
   "id": "a5a157d7",
   "metadata": {},
   "outputs": [
    {
     "data": {
      "text/plain": [
       "-1"
      ]
     },
     "execution_count": 1,
     "metadata": {},
     "output_type": "execute_result"
    }
   ],
   "source": [
    "import cv2 as cv\n",
    "import numpy as np\n",
    "\n",
    "#circle=np.zeros((300,300),dtype='uint8')\n",
    "circle=np.zeros((1300,1200),dtype='uint8')#size of the window\n",
    "#create a circle in using numpy all zeros in a circle\n",
    "\n",
    "#cv.circle(circle,(25,25),(275,275),255,-1)\n",
    "cv.circle(circle,(200,200),150,255,-1)#that window filup the white panel\n",
    "#circle ,initial size,start n rigion,white color,-1 while be solid\n",
    "\n",
    "cv.imshow(\"cirlce\",circle)\n",
    "\n",
    "cv.waitKey(0)"
   ]
  },
  {
   "cell_type": "code",
   "execution_count": null,
   "id": "b3df2728",
   "metadata": {},
   "outputs": [],
   "source": [
    "import cv2 as cv\n",
    "import numpy as np\n",
    "\n",
    "circle=np.zeros((300,300),dtype='uint8')\n",
    "rectangle=np.zeros((300,300),dtype='uint8')\n",
    "\n",
    "\n",
    "cv.rectangle(rectangle,(25,25),(275,275),255,-1)\n",
    "cv.circle(circle,(150,150),150,255,-1)\n",
    "\n",
    "cv.imshow(\"rectangle\",rectangle)\n",
    "cv.imshow(\"cirlce\",circle)\n",
    "\n",
    "bitwise_and=cv.bitwise_and(rectangle,circle)\n",
    "cv.imshow(\"bitwise_and\",bitwise_and)\n",
    "\n",
    "bitwise_or=cv.bitwise_or(rectangle,circle)\n",
    "cv.imshow(\"bitwise_or\",bitwise_or)\n",
    "\n",
    "bitwise_xor=cv.bitwise_xor(rectangle,circle)\n",
    "cv.imshow(\"bitwise_xor\",bitwise_xor)\n",
    "\n",
    "bitwise_not=cv.bitwise_not(circle)\n",
    "cv.imshow(\"bitwise_not_rectangle\",bitwise_not)\n",
    "\n",
    "bitwise_not=cv.bitwise_not(rectangle)\n",
    "cv.imshow(\"bitwise_not_rectangle\",bitwise_not)\n",
    "\n",
    "\"\"\"\n",
    "in this functions working to the mathematic AND,OR,XOR,NOT there are true or flase \n",
    "checking to this conditionds AND,OR,NOT,XOR that final output print in the window\n",
    "rigion that particular position\n",
    "\"\"\"\n",
    "\n",
    "cv.waitKey(0)"
   ]
  },
  {
   "cell_type": "code",
   "execution_count": 17,
   "id": "b537e940",
   "metadata": {},
   "outputs": [
    {
     "data": {
      "text/plain": [
       "-1"
      ]
     },
     "execution_count": 17,
     "metadata": {},
     "output_type": "execute_result"
    }
   ],
   "source": [
    "import cv2 as cv\n",
    "import numpy as np\n",
    "\n",
    "img=cv.imread(\"sanjeev.jpg\")\n",
    "img=cv.resize(img,(1000,600))\n",
    "cv.imshow(\"original\",img)\n",
    "\n",
    "mask=np.zeros(img.shape[:2],dtype='uint8')\n",
    "#same size is loaded\n",
    "\"\"\"cv.rectangle(mask,(400,50),(800,400),255,-1)\"\"\"\n",
    "#mask,staring rigion,end rigion,color,solid\n",
    "\n",
    "cv.circle(mask,(550,150),150,255,-1)\n",
    "\n",
    "masked_image=cv.bitwise_and(img,img,mask=mask)\n",
    "# image, image, mask is passing in mask\n",
    "cv.imshow(\"masked_image\",masked_image)\n",
    "\n",
    "\n",
    "cv.waitKey(0)"
   ]
  },
  {
   "cell_type": "code",
   "execution_count": null,
   "id": "1d171ec6",
   "metadata": {},
   "outputs": [],
   "source": []
  },
  {
   "cell_type": "code",
   "execution_count": null,
   "id": "b856d9be",
   "metadata": {},
   "outputs": [],
   "source": []
  },
  {
   "cell_type": "code",
   "execution_count": null,
   "id": "a35ffd6e",
   "metadata": {},
   "outputs": [],
   "source": []
  }
 ],
 "metadata": {
  "kernelspec": {
   "display_name": "Python 3 (ipykernel)",
   "language": "python",
   "name": "python3"
  },
  "language_info": {
   "codemirror_mode": {
    "name": "ipython",
    "version": 3
   },
   "file_extension": ".py",
   "mimetype": "text/x-python",
   "name": "python",
   "nbconvert_exporter": "python",
   "pygments_lexer": "ipython3",
   "version": "3.9.12"
  }
 },
 "nbformat": 4,
 "nbformat_minor": 5
}
