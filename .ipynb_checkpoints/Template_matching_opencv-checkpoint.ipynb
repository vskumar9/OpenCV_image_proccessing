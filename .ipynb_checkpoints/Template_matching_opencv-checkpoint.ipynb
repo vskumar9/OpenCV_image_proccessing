{
 "cells": [
  {
   "cell_type": "code",
   "execution_count": 15,
   "id": "e22a1c28",
   "metadata": {},
   "outputs": [
    {
     "data": {
      "text/plain": [
       "-1"
      ]
     },
     "execution_count": 15,
     "metadata": {},
     "output_type": "execute_result"
    }
   ],
   "source": [
    "import cv2 as cv\n",
    "import numpy as np\n",
    "\n",
    "#img=cv.resize(cv.imread(\"coca_b2.jfif\"),(500,500))\n",
    "img=cv.imread(\"coca_b2.jfif\")\n",
    "temp=cv.imread(\"coca.jfif\")\n",
    "\n",
    "img_gray=cv.cvtColor(img,cv.COLOR_BGR2GRAY)\n",
    "temp_gray=cv.cvtColor(temp,cv.COLOR_BGR2GRAY)\n",
    "\n",
    "result=cv.matchTemplate(img_gray,temp_gray,cv.TM_CCOEFF_NORMED)\n",
    "(minVal,maxVal,minLoc,maxLoc)=cv.minMaxLoc(result)\n",
    "startX,startY=maxLoc\n",
    "endX=startX+temp.shape[1]\n",
    "endY=startY+temp.shape[0]\n",
    "\n",
    "cv.rectangle(img,(startX,startY),(endX,endY),(255,0,0),3)\n",
    "cv.imshow(\"output\",img)\n",
    "cv.waitKey(0)"
   ]
  },
  {
   "cell_type": "code",
   "execution_count": null,
   "id": "02a89592",
   "metadata": {},
   "outputs": [],
   "source": []
  }
 ],
 "metadata": {
  "kernelspec": {
   "display_name": "Python 3 (ipykernel)",
   "language": "python",
   "name": "python3"
  },
  "language_info": {
   "codemirror_mode": {
    "name": "ipython",
    "version": 3
   },
   "file_extension": ".py",
   "mimetype": "text/x-python",
   "name": "python",
   "nbconvert_exporter": "python",
   "pygments_lexer": "ipython3",
   "version": "3.9.12"
  }
 },
 "nbformat": 4,
 "nbformat_minor": 5
}
