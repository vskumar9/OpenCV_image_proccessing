{
 "cells": [
  {
   "cell_type": "code",
   "execution_count": null,
   "id": "62955919",
   "metadata": {},
   "outputs": [],
   "source": [
    "import cv2 as cv\n",
    "import numpy as np\n",
    "import matplotlib.pyplot as plt\n",
    "\n",
    "apple = cv.imread(\"sanjeev.jpg\")\n",
    "orange = cv.imread(\"sanjeev.jpg\")\n",
    "\n",
    "apple = cv.resize(apple,(600,600))\n",
    "orange = cv.resize(apple,(600,600))\n",
    "\n",
    "print(apple.shape)\n",
    "print(orange.shape)\n",
    "\n",
    "#hstack is pspliting to the image\n",
    "apple_orange = np.hstack((apple[:, :256], orange[:,256:]))\n",
    "#plt.imshow(apple_orange[:,:,::-1])\n",
    "#cv.imshow('img',apple_orange[:,:,::1])\n",
    "#cv.waitKey(0)\n",
    "\n",
    "#generate Gaussian pyramid for apple\n",
    "apple_copy=apple.copy() #create a copy of the apple image\n",
    "gp_apple = [apple_copy] #Create the Gaussia\n",
    "\n",
    "#pyramid and pass as a list\n",
    "for i in range(6):\n",
    "    apple_copy = cv.pyrDown(apple_copy)\n",
    "    gp_apple.append(apple_copy)\n",
    "    \n",
    "#generate Gaussian pyramid for orange\n",
    "orange_copy = orange.copy()\n",
    "gp_orange = [orange_copy]\n",
    "for i in range(6):\n",
    "    orange_copy =cv.pyrDown(orange_copy)\n",
    "    gp_orange.append(orange_copy)\n",
    "    \n",
    "#generate laplacian pyramid for appple, 5 is default limit for laplacian\n",
    "apple_copy =gp_apple[5]\n",
    "lp_apple = [apple_copy]\n",
    "for i in range(5,0,-1):\n",
    "    gaussian_expanded = cv.pyrUp(gp_apple[i])\n",
    "    laplacian = cv.subtract(gp_apple[i-1], gaussian_expanded)\n",
    "    lp_apple.append(laplacian)\n",
    "    \n",
    "#generate laplacian pyramind for orange, 5 is default limit for laplacian\n",
    "orange_copy =gp_orange[5]\n",
    "lp_orange = [orange_copy]\n",
    "for i in range(5,0,-1):\n",
    "    gaussian_expanded = cv.pyrUp(gp_orange[i])\n",
    "    laplacian = cv.subtract(gp_orange[i-1],gaussian_expanded)\n",
    "    lp_orange.append(laplacian)\n",
    "    \n",
    "#now add left and right halves of image in each level\n",
    "apple_orange_pyramid = []\n",
    "n = 0\n",
    "for apple_lap, orange_lap in zip(lp_apple, lp_orange):\n",
    "    n += 1\n",
    "    cols, rows, ch = apple_lap.shape\n",
    "    laplacian = np.hstack((apple_lap[:,0:int(cols/2)],orange_lap[:,int(cols/2):])) #dividing columns of both images into half\n",
    "    apple_orange_pyramid.append(laplacian) #appending the variable to list\n",
    "\n",
    "#now reconnstructing our image using pyrUp and starting pyramid levels\n",
    "apple_orange_reconstruct = apple_orange_pyramid[0]\n",
    "for i in range(1,6):\n",
    "    apple_orange_reconstruct = cv.pyrUp(apple_orange_reconstruct)\n",
    "    apple_orange_reconstruct = cv.add(apple_orange_pyramid[i],apple_orange_reconstruct)\n",
    "cv.imshow('final', apple_orange_reconstruct[:,:,::-1])\n",
    "cv.imshow(apple_orange_reconstruct[:,:,::-1])\n",
    "\n",
    "cv.waitKey(0)\n",
    "cv.destroyAllWindows()"
   ]
  },
  {
   "cell_type": "code",
   "execution_count": null,
   "id": "0cc82c2f",
   "metadata": {},
   "outputs": [],
   "source": [
    "from __future__ import print_function\n",
    "\n",
    "import cv2 as cv\n",
    "\n",
    "alpha = 0.5\n",
    "\n",
    "try:\n",
    "    raw_input          # Python 2\n",
    "except NameError:\n",
    "    raw_input = input  # Python 3\n",
    "\n",
    "print(''' Simple Linear Blender\n",
    "-----------------------\n",
    "* Enter alpha [0.0-1.0]: ''')\n",
    "input_alpha = float(raw_input().strip())\n",
    "if 0 <= alpha <= 1:\n",
    "    alpha = input_alpha\n",
    "# [load]\n",
    "src1 = cv.imread(cv.samples.findFile('apple.jpg'))\n",
    "src2 = cv.imread(cv.samples.findFile('orange.jpg'))\n",
    "# [load]\n",
    "if src1 is None:\n",
    "    print(\"Error loading src1\")\n",
    "    exit(-1)\n",
    "elif src2 is None:\n",
    "    print(\"Error loading src2\")\n",
    "    exit(-1)\n",
    "# [blend_images]\n",
    "beta = (1.0 - alpha)\n",
    "dst = cv.addWeighted(src1, alpha, src2, beta, 0.0)\n",
    "# [blend_images]\n",
    "# [display]\n",
    "cv.imshow('dst', dst)\n",
    "cv.waitKey(0)\n",
    "# [display]\n",
    "cv.destroyAllWindows()"
   ]
  },
  {
   "cell_type": "code",
   "execution_count": 23,
   "id": "f73933b0",
   "metadata": {},
   "outputs": [],
   "source": [
    "import cv2\n",
    "import numpy as np "
   ]
  },
  {
   "cell_type": "code",
   "execution_count": 26,
   "id": "c63d63aa",
   "metadata": {},
   "outputs": [],
   "source": [
    "apple = cv2.imread(\"apple.jpg\")\n",
    "orange = cv2.imread(\"orange.jpg\")\n",
    "\n",
    "apple = cv.resize(apple,(600,600))\n",
    "orange = cv.resize(apple,(600,600))\n",
    "\n"
   ]
  },
  {
   "cell_type": "code",
   "execution_count": 27,
   "id": "2bf6be59",
   "metadata": {},
   "outputs": [
    {
     "name": "stdout",
     "output_type": "stream",
     "text": [
      "(600, 600, 3)\n",
      "(600, 600, 3)\n"
     ]
    }
   ],
   "source": [
    "#printing the shape of our images\n",
    "print(apple.shape)\n",
    "print(orange.shape)"
   ]
  },
  {
   "cell_type": "code",
   "execution_count": 28,
   "id": "522a3022",
   "metadata": {},
   "outputs": [],
   "source": [
    "apple_orange = np.hstack((apple[:, :256], orange[:, 256:]))  #Dividing them into right and left half as tuples using hstack"
   ]
  },
  {
   "cell_type": "code",
   "execution_count": 30,
   "id": "7de56c5b",
   "metadata": {},
   "outputs": [],
   "source": [
    "# generate Gaussian pyramid for apple\n",
    "apple_copy = apple.copy()#create a copy of the apple image\n",
    "gp_apple = [apple_copy] #creating the gaussian pyramid and pass as a list\n",
    "for i in range(6):\n",
    "    apple_copy = cv2.pyrDown(apple_copy)\n",
    "    gp_apple.append(apple_copy)"
   ]
  },
  {
   "cell_type": "code",
   "execution_count": 31,
   "id": "bc6bf9e4",
   "metadata": {},
   "outputs": [],
   "source": [
    "# generate Gaussian pyramid for orange\n",
    "orange_copy = orange.copy()\n",
    "gp_orange = [orange_copy]\n",
    "for i in range(6):\n",
    "    orange_copy = cv2.pyrDown(orange_copy)\n",
    "    gp_orange.append(orange_copy)"
   ]
  },
  {
   "cell_type": "code",
   "execution_count": null,
   "id": "5dd23f54",
   "metadata": {},
   "outputs": [],
   "source": []
  },
  {
   "cell_type": "code",
   "execution_count": null,
   "id": "0f4534d8",
   "metadata": {},
   "outputs": [],
   "source": []
  },
  {
   "cell_type": "code",
   "execution_count": null,
   "id": "67801f43",
   "metadata": {},
   "outputs": [],
   "source": []
  }
 ],
 "metadata": {
  "kernelspec": {
   "display_name": "Python 3 (ipykernel)",
   "language": "python",
   "name": "python3"
  },
  "language_info": {
   "codemirror_mode": {
    "name": "ipython",
    "version": 3
   },
   "file_extension": ".py",
   "mimetype": "text/x-python",
   "name": "python",
   "nbconvert_exporter": "python",
   "pygments_lexer": "ipython3",
   "version": "3.9.12"
  }
 },
 "nbformat": 4,
 "nbformat_minor": 5
}
