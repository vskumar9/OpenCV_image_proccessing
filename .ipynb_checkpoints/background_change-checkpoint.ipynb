{
 "cells": [
  {
   "cell_type": "code",
   "execution_count": null,
   "id": "51987405",
   "metadata": {},
   "outputs": [],
   "source": [
    "import cv2 as cv\n",
    "import numpy\n",
    "\n",
    "cap=cv.VideoCapture(0)\n",
    "fgbg=cv.createBackgroundSubtractorMOG2()\n",
    "\n",
    "while(1):\n",
    "    res,img=cap.read()\n",
    "    fgmask=fgbg.apply(img)\n",
    "    \n",
    "    cv.imshow(\"original\",img)\n",
    "    cv.imshow(\"fgmask\",fgmask)\n",
    "    \n",
    "    k=cv.waitKey(0)& 0xff\n",
    "    if k==27:\n",
    "        break\n",
    "cv.release()\n",
    "cv.destroyAllWindows()"
   ]
  },
  {
   "cell_type": "code",
   "execution_count": 2,
   "id": "a0094563",
   "metadata": {},
   "outputs": [
    {
     "ename": "AttributeError",
     "evalue": "module 'cv2' has no attribute 'createBackgroundSubtractorMOG'",
     "output_type": "error",
     "traceback": [
      "\u001b[1;31m---------------------------------------------------------------------------\u001b[0m",
      "\u001b[1;31mAttributeError\u001b[0m                            Traceback (most recent call last)",
      "Input \u001b[1;32mIn [2]\u001b[0m, in \u001b[0;36m<cell line: 8>\u001b[1;34m()\u001b[0m\n\u001b[0;32m      4\u001b[0m kernel\u001b[38;5;241m=\u001b[39mcv\u001b[38;5;241m.\u001b[39mgetStructuringElement(cv\u001b[38;5;241m.\u001b[39mMORPH_ELLIPSE,(\u001b[38;5;241m3\u001b[39m,\u001b[38;5;241m3\u001b[39m))\n\u001b[0;32m      6\u001b[0m cap\u001b[38;5;241m=\u001b[39mcv\u001b[38;5;241m.\u001b[39mVideoCapture(\u001b[38;5;241m0\u001b[39m)\n\u001b[1;32m----> 8\u001b[0m fgbg\u001b[38;5;241m=\u001b[39m\u001b[43mcv\u001b[49m\u001b[38;5;241;43m.\u001b[39;49m\u001b[43mcreateBackgroundSubtractorMOG\u001b[49m()\n\u001b[0;32m      9\u001b[0m fgbg1\u001b[38;5;241m=\u001b[39mcv\u001b[38;5;241m.\u001b[39mcreateBackgroundSubtractorMOG2()\n\u001b[0;32m     10\u001b[0m fgbg2\u001b[38;5;241m=\u001b[39mcv\u001b[38;5;241m.\u001b[39mbgsegm\u001b[38;5;241m.\u001b[39mcreateBackgroundSubtractorGMG()\n",
      "\u001b[1;31mAttributeError\u001b[0m: module 'cv2' has no attribute 'createBackgroundSubtractorMOG'"
     ]
    }
   ],
   "source": [
    "import cv2 as cv\n",
    "import numpy\n",
    "\n",
    "kernel=cv.getStructuringElement(cv.MORPH_ELLIPSE,(3,3))\n",
    "\n",
    "cap=cv.VideoCapture(0)\n",
    "\n",
    "fgbg=cv.bgsegm.createBackgroundSubtractorMOG()\n",
    "fgbg1=cv.createBackgroundSubtractorMOG2()\n",
    "fgbg2=cv.bgsegm.createBackgroundSubtractorGMG()\n",
    "\n",
    "while(1):\n",
    "    ret,img=cap.read()\n",
    "    fgmask=fgbg.apply(img)\n",
    "    fgmask1=fgbg1.apply(img)\n",
    "    fgmask2=fgbg2.apply(img)\n",
    "    \n",
    "    cv.imshow(\"fgmask\",fgmask2)\n",
    "    \n",
    "    fgmask2=cv2.morphologyEx(fgmask2,cv.MORPH_OPEN,kernel)\n",
    "    \n",
    "    cv.imshow(\"fgmask1\",fgmask1)\n",
    "    cv.imshow(\"fgmask\",fgmask2)\n",
    "    cv.imshow(\"original\",img)\n",
    "    \n",
    "    k=cv.waitKey(30) & 0xff\n",
    "    if k==27:\n",
    "        break\n",
    "\n",
    "cv.release()\n",
    "cv.distroyAllWindows()"
   ]
  },
  {
   "cell_type": "code",
   "execution_count": null,
   "id": "628174c8",
   "metadata": {},
   "outputs": [],
   "source": []
  }
 ],
 "metadata": {
  "kernelspec": {
   "display_name": "Python 3 (ipykernel)",
   "language": "python",
   "name": "python3"
  },
  "language_info": {
   "codemirror_mode": {
    "name": "ipython",
    "version": 3
   },
   "file_extension": ".py",
   "mimetype": "text/x-python",
   "name": "python",
   "nbconvert_exporter": "python",
   "pygments_lexer": "ipython3",
   "version": "3.9.12"
  }
 },
 "nbformat": 4,
 "nbformat_minor": 5
}
