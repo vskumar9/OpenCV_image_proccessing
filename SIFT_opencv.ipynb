{
 "cells": [
  {
   "cell_type": "code",
   "execution_count": 3,
   "id": "d94eef1a",
   "metadata": {},
   "outputs": [],
   "source": [
    "import cv2 as cv\n",
    "import numpy as np\n",
    "\n",
    "img= cv.resize(cv.imread(\"sanjeev.jpg\"),(1000,600))\n",
    "gray=cv.cvtColor(img,cv.COLOR_BGR2GRAY)\n",
    "\n",
    "#APPLY SIFT detector\n",
    "sift=cv.xfeatures2d.SIFT_create()\n",
    "keypoint,descriptos=sift.detectAndCompute(img,None)\n",
    "\n",
    "#marking the key point on the image using circles \n",
    "#cv.DRAW_MATCHES_FLAGS_DRAW_DEFAULT,cv.DRAW_MATCHES_FLAGS_NOT_DRAW_-SINGLE_KEYPOINTS,cv.DRAW_MATCHES_FLAGS_DRAW_RICH_KEYPOINTS\n",
    "img=cv.drawKeypoints(gray,keypoint,img,(0,0,255),cv.DRAW_MATCHES_FLAGS_DRAW_RICH_KEYPOINTS)\n",
    "cv.imshow(\"key point image\",img)\n",
    "cv.waitKey(0)\n",
    "cv.destroyAllWindows()"
   ]
  }
 ],
 "metadata": {
  "kernelspec": {
   "display_name": "Python 3 (ipykernel)",
   "language": "python",
   "name": "python3"
  },
  "language_info": {
   "codemirror_mode": {
    "name": "ipython",
    "version": 3
   },
   "file_extension": ".py",
   "mimetype": "text/x-python",
   "name": "python",
   "nbconvert_exporter": "python",
   "pygments_lexer": "ipython3",
   "version": "3.9.13"
  }
 },
 "nbformat": 4,
 "nbformat_minor": 5
}
