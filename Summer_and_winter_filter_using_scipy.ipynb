{
 "cells": [
  {
   "cell_type": "code",
   "execution_count": 3,
   "id": "dba8cd52",
   "metadata": {},
   "outputs": [],
   "source": [
    "import scipy\n",
    "import cv2 as cv\n",
    "import numpy as np\n",
    "from scipy.interpolate import UnivariateSpline\n",
    "\n",
    "img=cv.resize(cv.imread(\"sanjeev.jpg\"),(1000,600))\n",
    "\n",
    "def LookUpTable(x,y):\n",
    "    spline=UnivariateSpline(x,y)\n",
    "    return spline(range(256))\n",
    "\n",
    "#Summer effect\n",
    "def Summer(img):\n",
    "    increaseLookUpTable=LookUpTable([0,64,128,256],[0,80,160,256])\n",
    "    decreaseLookUpTable=LookUpTable([0,64,128,256],[0,50,100,256])\n",
    "    blue_channel, green_channel, red_channel= cv.split(img)\n",
    "    red_channel=cv.LUT(red_channel,increaseLookUpTable).astype(np.uint8)\n",
    "    blue_channel=cv.LUT(red_channel,decreaseLookUpTable).astype(np.uint8)\n",
    "    sum=cv.merge((blue_channel, green_channel, red_channel))\n",
    "    return sum\n",
    "\n",
    "#winter effect\n",
    "def Winter(img):\n",
    "    increaseLookUpTable=LookUpTable([0,64,128,256],[0,80,160,256])\n",
    "    decreaseLookUpTable=LookUpTable([0,64,128,256],[0,50,100,256])\n",
    "    blue_channel, green_channel, red_channel= cv.split(img)\n",
    "    red_channel=cv.LUT(red_channel,decreaseLookUpTable).astype(np.uint8)\n",
    "    blue_channel=cv.LUT(red_channel,increaseLookUpTable).astype(np.uint8)\n",
    "    sum=cv.merge((blue_channel, green_channel, red_channel))\n",
    "    return sum\n",
    "\n",
    "summer=Summer(img)\n",
    "winter=Winter(img)\n",
    "cv.imshow(\"summer\",summer)\n",
    "cv.imshow(\"winter\",winter)\n",
    "\n",
    "cv.waitKey(0)\n",
    "cv.destroyAllWindows()"
   ]
  },
  {
   "cell_type": "code",
   "execution_count": null,
   "id": "84cac0a1",
   "metadata": {},
   "outputs": [],
   "source": []
  }
 ],
 "metadata": {
  "kernelspec": {
   "display_name": "Python 3 (ipykernel)",
   "language": "python",
   "name": "python3"
  },
  "language_info": {
   "codemirror_mode": {
    "name": "ipython",
    "version": 3
   },
   "file_extension": ".py",
   "mimetype": "text/x-python",
   "name": "python",
   "nbconvert_exporter": "python",
   "pygments_lexer": "ipython3",
   "version": "3.9.12"
  }
 },
 "nbformat": 4,
 "nbformat_minor": 5
}
