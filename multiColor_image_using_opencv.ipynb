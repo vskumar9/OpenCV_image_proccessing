{
 "cells": [
  {
   "cell_type": "code",
   "execution_count": null,
   "id": "77833461",
   "metadata": {},
   "outputs": [],
   "source": [
    "import cv2 as cv\n",
    "import numpy as np\n",
    "\n",
    "img=cv.resize(cv.imread(\"sanjeev.jpg\"),(1000,600))\n",
    "gray=cv.cvtColor(img,cv.COLOR_BGR2GRAY)\n",
    "\n",
    "#brightness, beta value is brightnness increase or decrease\n",
    "brightness=cv.convertScaleAbs(img,beta=60)\n",
    "\n",
    "#sharpness\n",
    "kernel=np.array([[-1,-1,-1],[-1,9.5,-1],[-1,-1,-1]])\n",
    "#depth of perameter is -1\n",
    "sharpness=cv.filter2D(img,-1,kernel)\n",
    "\n",
    "#pencilsketch\n",
    "sk_gray,sk_color=cv.pencilSketch(img,sigma_s=60,sigma_r=0.07,shade_factor=0.1)\n",
    "\n",
    "#HDR Effect\n",
    "hdr=cv.detailEnhance(img,sigma_s=150,sigma_r=0.15)\n",
    "\n",
    "#invert filter\n",
    "inv=cv.bitwise_not(img)\n",
    "\n",
    "cv.imshow(\"original\",img)\n",
    "cv.imshow(\"Gray_color\",gray)\n",
    "cv.imshow(\"brightness\",brightness)\n",
    "cv.imshow(\"sharpness\",sharpness)\n",
    "cv.imshow(\"sk_color\",sk_color)\n",
    "cv.imshow(\"sk_gray\",sk_gray)\n",
    "cv.imshow(\"hdr\",hdr)\n",
    "cv.imshow(\"inv\",inv)\n",
    "\n",
    "cv.waitKey(0)\n",
    "cv.distroyAllWindows()"
   ]
  },
  {
   "cell_type": "code",
   "execution_count": null,
   "id": "fa0a4571",
   "metadata": {},
   "outputs": [],
   "source": []
  }
 ],
 "metadata": {
  "kernelspec": {
   "display_name": "Python 3 (ipykernel)",
   "language": "python",
   "name": "python3"
  },
  "language_info": {
   "codemirror_mode": {
    "name": "ipython",
    "version": 3
   },
   "file_extension": ".py",
   "mimetype": "text/x-python",
   "name": "python",
   "nbconvert_exporter": "python",
   "pygments_lexer": "ipython3",
   "version": "3.9.12"
  }
 },
 "nbformat": 4,
 "nbformat_minor": 5
}
