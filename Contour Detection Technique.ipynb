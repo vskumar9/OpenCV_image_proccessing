{
 "cells": [
  {
   "cell_type": "code",
   "execution_count": 37,
   "id": "fbb84baf",
   "metadata": {},
   "outputs": [
    {
     "name": "stdout",
     "output_type": "stream",
     "text": [
      "no of contour: 1\n"
     ]
    },
    {
     "data": {
      "text/plain": [
       "-1"
      ]
     },
     "execution_count": 37,
     "metadata": {},
     "output_type": "execute_result"
    }
   ],
   "source": [
    "import cv2 as cv\n",
    "import numpy as np\n",
    "\n",
    "img=cv.imread(\"hand.jpg\")\n",
    "#image read in program\n",
    "img=cv.resize(img,(1000,600))\n",
    "#image resize in a 1000,600\n",
    "gray=cv.cvtColor(img,cv.COLOR_BGR2GRAY)\n",
    "#image color convert to rgb to black and white\n",
    "\n",
    "\n",
    "res,thresh=cv.threshold(gray,210,255,cv.THRESH_BINARY_INV)\n",
    "#gray image is to highlight the black and white colror because to easy identify the border of the image\n",
    "#to gray image to htreshold image\n",
    "\n",
    "contours,hi=cv.findContours(thresh,cv.RETR_TREE,cv.CHAIN_APPROX_SIMPLE)\n",
    " #RETR_TREE IS IMPORTANT OF THE FUNCTION IN THE CONTOUR AND \"CHAIN_APPROX_SIMPLE\" is also it is the find border to add \n",
    "#chain all intensity object \n",
    "\n",
    "print('no of contour: '+str(len(contours)))\n",
    "#to print the contour the boader\n",
    "\n",
    "image=cv.drawContours(img,contours,-1,(0,0,255),1)\n",
    "#the image, contour, -1 (is a all contour print or 1 is only first contour),color,thikness of the boader\n",
    "\n",
    "#  cv.drawContours(img,contours,-1,(0,0,255),1)  also use this it's working\n",
    "\n",
    "\n",
    "cv.imshow(\"gray\",gray)\n",
    "cv.imshow(\"Contour_image\",image)\n",
    "#show the image \n",
    "\n",
    "cv.waitKey(0)"
   ]
  }
 ],
 "metadata": {
  "kernelspec": {
   "display_name": "Python 3 (ipykernel)",
   "language": "python",
   "name": "python3"
  },
  "language_info": {
   "codemirror_mode": {
    "name": "ipython",
    "version": 3
   },
   "file_extension": ".py",
   "mimetype": "text/x-python",
   "name": "python",
   "nbconvert_exporter": "python",
   "pygments_lexer": "ipython3",
   "version": "3.9.12"
  }
 },
 "nbformat": 4,
 "nbformat_minor": 5
}
