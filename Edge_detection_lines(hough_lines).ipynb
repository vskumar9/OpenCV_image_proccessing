{
 "cells": [
  {
   "cell_type": "code",
   "execution_count": 7,
   "id": "bb0a5e16",
   "metadata": {},
   "outputs": [
    {
     "data": {
      "text/plain": [
       "-1"
      ]
     },
     "execution_count": 7,
     "metadata": {},
     "output_type": "execute_result"
    }
   ],
   "source": [
    "import cv2 as cv\n",
    "import numpy as np\n",
    "\n",
    "\n",
    "\"\"\"cap=cv.VideoCapture(0)\n",
    "_,img=cap.read()\"\"\"\n",
    "img=cv.imread(\"sudoku.jpg\")\n",
    "img=cv.cvtColor(img,cv.COLOR_BGR2GRAY)\n",
    "edges=cv.Canny(img,50,150)\n",
    "cv.imshow(\"edges_image\",edges)\n",
    "\n",
    "cv.waitKey(0)"
   ]
  },
  {
   "cell_type": "code",
   "execution_count": 22,
   "id": "4710ae6e",
   "metadata": {},
   "outputs": [],
   "source": [
    "import cv2 as cv\n",
    "import numpy as np\n",
    "\n",
    "\n",
    "\"\"\"cap=cv.VideoCapture(0)\n",
    "_,img=cap.read()\"\"\"\n",
    "img=cv.imread(\"sudoku1.jpg\")\n",
    "img=cv.resize(img,(400,400))\n",
    "cv.imshow(\"image\",img)\n",
    "gray=cv.cvtColor(img,cv.COLOR_BGR2GRAY)\n",
    "edges=cv.Canny(gray,50,150)\n",
    "#cv.imshow(\"edges_image\",edges)\n",
    "lines=cv.HoughLines(edges,1,np.pi/180,200)\n",
    "for line in lines:\n",
    "    rho,theta=line[0]\n",
    "    a=np.cos(theta)\n",
    "    b=np.sin(theta)\n",
    "    x0=a*rho\n",
    "    y0=b*rho\n",
    "    x1=int(x0+1000*(-b))\n",
    "    y1=int(y0+1000*(a))\n",
    "    x2=int(x0-1000*(-b))\n",
    "    y2=int(y0-1000*(a))\n",
    "    cv.line(img,(x1,y1),(x2,y2),(0,0,255),2)\n",
    "\n",
    "cv.imshow(\"Line_detecting_image\",img)\n",
    "    \n",
    "cv.waitKey(0)\n",
    "cv.destroyAllWindows()"
   ]
  },
  {
   "cell_type": "code",
   "execution_count": 28,
   "id": "c8ad64c5",
   "metadata": {},
   "outputs": [
    {
     "ename": "TypeError",
     "evalue": "'NoneType' object is not iterable",
     "output_type": "error",
     "traceback": [
      "\u001b[1;31m---------------------------------------------------------------------------\u001b[0m",
      "\u001b[1;31mTypeError\u001b[0m                                 Traceback (most recent call last)",
      "Input \u001b[1;32mIn [28]\u001b[0m, in \u001b[0;36m<cell line: 5>\u001b[1;34m()\u001b[0m\n\u001b[0;32m      9\u001b[0m \u001b[38;5;66;03m#cv.imshow(\"edges_image\",edges)\u001b[39;00m\n\u001b[0;32m     10\u001b[0m lines\u001b[38;5;241m=\u001b[39mcv\u001b[38;5;241m.\u001b[39mHoughLines(edges,\u001b[38;5;241m1\u001b[39m,np\u001b[38;5;241m.\u001b[39mpi\u001b[38;5;241m/\u001b[39m\u001b[38;5;241m180\u001b[39m,\u001b[38;5;241m200\u001b[39m)\n\u001b[1;32m---> 11\u001b[0m \u001b[38;5;28;01mfor\u001b[39;00m line \u001b[38;5;129;01min\u001b[39;00m lines:\n\u001b[0;32m     12\u001b[0m     rho,theta\u001b[38;5;241m=\u001b[39mline[\u001b[38;5;241m0\u001b[39m]\n\u001b[0;32m     13\u001b[0m     a\u001b[38;5;241m=\u001b[39mnp\u001b[38;5;241m.\u001b[39mcos(theta)\n",
      "\u001b[1;31mTypeError\u001b[0m: 'NoneType' object is not iterable"
     ]
    }
   ],
   "source": [
    "import cv2 as cv\n",
    "import numpy as np\n",
    "\n",
    "cap=cv.VideoCapture(0)\n",
    "while(1):\n",
    "    _,img=cap.read()\n",
    "    gray=cv.cvtColor(img,cv.COLOR_BGR2GRAY)\n",
    "    edges=cv.Canny(gray,50,150)\n",
    "    #cv.imshow(\"edges_image\",edges)\n",
    "    lines=cv.HoughLines(edges,1,np.pi/180,200)\n",
    "    for line in lines:\n",
    "        rho,theta=line[0]\n",
    "        a=np.cos(theta)\n",
    "        b=np.sin(theta)\n",
    "        x0=a*rho\n",
    "        y0=b*rho\n",
    "        x1=int(x0+1000*(-b))\n",
    "        y1=int(y0+1000*(a))\n",
    "        x2=int(x0-1000*(-b))\n",
    "        y2=int(y0-1000*(a))\n",
    "    cv.line(img,(x1,y1),(x2,y2),(0,0,255),2)\n",
    "    \n",
    "    cv.imshow(\"Color Tracking\",img)\n",
    "    if cv.waitKey(10)&0xFF==ord('q'):\n",
    "        cap.release()\n",
    "        cv.destroyAllWindows()\n",
    "        break"
   ]
  }
 ],
 "metadata": {
  "kernelspec": {
   "display_name": "Python 3 (ipykernel)",
   "language": "python",
   "name": "python3"
  },
  "language_info": {
   "codemirror_mode": {
    "name": "ipython",
    "version": 3
   },
   "file_extension": ".py",
   "mimetype": "text/x-python",
   "name": "python",
   "nbconvert_exporter": "python",
   "pygments_lexer": "ipython3",
   "version": "3.9.12"
  }
 },
 "nbformat": 4,
 "nbformat_minor": 5
}
