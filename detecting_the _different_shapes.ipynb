{
 "cells": [
  {
   "cell_type": "code",
   "execution_count": 1,
   "id": "82b37c05",
   "metadata": {},
   "outputs": [
    {
     "ename": "NameError",
     "evalue": "name 'cv2' is not defined",
     "output_type": "error",
     "traceback": [
      "\u001b[1;31m---------------------------------------------------------------------------\u001b[0m",
      "\u001b[1;31mNameError\u001b[0m                                 Traceback (most recent call last)",
      "Input \u001b[1;32mIn [1]\u001b[0m, in \u001b[0;36m<cell line: 12>\u001b[1;34m()\u001b[0m\n\u001b[0;32m     36\u001b[0m         cv\u001b[38;5;241m.\u001b[39mputText(img,\u001b[38;5;124m'\u001b[39m\u001b[38;5;124mCircle\u001b[39m\u001b[38;5;124m'\u001b[39m,(x,y),cv\u001b[38;5;241m.\u001b[39mFONT_HERSHEY_COMPLEX,\u001b[38;5;241m0.6\u001b[39m,(\u001b[38;5;241m0\u001b[39m,\u001b[38;5;241m0\u001b[39m,\u001b[38;5;241m0\u001b[39m),\u001b[38;5;241m2\u001b[39m)\n\u001b[0;32m     38\u001b[0m cnt \u001b[38;5;241m=\u001b[39m contour\n\u001b[1;32m---> 39\u001b[0m area \u001b[38;5;241m=\u001b[39m \u001b[43mcv2\u001b[49m\u001b[38;5;241m.\u001b[39mcontourArea(cnt)\n\u001b[0;32m     40\u001b[0m \u001b[38;5;28;01mif\u001b[39;00m area\u001b[38;5;241m>\u001b[39m\u001b[38;5;241m150\u001b[39m:\n\u001b[0;32m     41\u001b[0m     epsilon \u001b[38;5;241m=\u001b[39m \u001b[38;5;241m0.02\u001b[39m\u001b[38;5;241m*\u001b[39mcv2\u001b[38;5;241m.\u001b[39marcLength(cnt,\u001b[38;5;28;01mTrue\u001b[39;00m)\n",
      "\u001b[1;31mNameError\u001b[0m: name 'cv2' is not defined"
     ]
    }
   ],
   "source": [
    "import cv2 as cv\n",
    "import numpy as np\n",
    "\n",
    "img=cv.imread(\"shapes.jpg\")\n",
    "img=cv.resize(img,(600,600))\n",
    "gray=cv.cvtColor(img,cv.COLOR_BGR2GRAY)\n",
    "cv.imshow(\"gray\",gray)\n",
    "\n",
    "_,threshold=cv.threshold(gray,127,255,cv.THRESH_BINARY)\n",
    "contours,_=cv.findContours(threshold,cv.RETR_TREE,cv.CHAIN_APPROX_SIMPLE)\n",
    "i=0\n",
    "for contour in contours:\n",
    "    if i==0:\n",
    "        i=1\n",
    "        continue\n",
    "    approx=cv.approxPolyDP(contour,0.04*cv.arcLength(contour,True),True)\n",
    "    cv.drawContours(img,[contour],-1,(0,0,0),4)\n",
    "    #find the center of the shape\n",
    "    M=cv.moments(contour)\n",
    "    if M['m00']!=0.0:\n",
    "        x=int(M['m10']/M['m00'])\n",
    "        y=int(M['m01']/M['m00'])\n",
    "        \n",
    "        #shape\n",
    "        if len(approx)==3:\n",
    "            cv.putText(img,'Triangle',(x,y),cv.FONT_HERSHEY_COMPLEX,0.6,(0,0,0),2)\n",
    "        elif len(approx)==4:\n",
    "            cv.putText(img,'quadrilateral',(x,y),cv.FONT_HERSHEY_COMPLEX,0.6,(0,0,0),2)\n",
    "        elif len(approx)==5:\n",
    "            cv.putText(img,'Pentagon',(x,y),cv.FONT_HERSHEY_COMPLEX,0.6,(0,0,0),2)\n",
    "        elif len(approx)==6:\n",
    "            cv.putText(img,'hexagon',(x,y),cv.FONT_HERSHEY_COMPLEX,0.6,(0,0,0),2)\n",
    "        elif len(approx)==10:\n",
    "            cv.putText(img,'Star',(x,y),cv.FONT_HERSHEY_COMPLEX,0.6,(0,0,0),2)\n",
    "        else:\n",
    "            cv.putText(img,'Circle',(x,y),cv.FONT_HERSHEY_COMPLEX,0.6,(0,0,0),2)\n",
    "            \n",
    "    cnt = contour\n",
    "    area = cv2.contourArea(cnt)\n",
    "    if area>150:\n",
    "        epsilon = 0.02*cv2.arcLength(cnt,True)\n",
    "        approx = cv2.approxPolyDP(cnt,epsilon,True)\n",
    "        no_of_vertices.append(len(approx))\n",
    "        \n",
    "    counter = collections.Counter(no_of_vertices)\n",
    "    a,b = counter.keys(),counter.values()\n",
    "    \n",
    "cv.imshow(\"shapes\",img)\n",
    "\n",
    "cv.waitKey(0)\n",
    "cv.destroyAllWindows()"
   ]
  },
  {
   "cell_type": "code",
   "execution_count": 5,
   "id": "77634ab3",
   "metadata": {},
   "outputs": [
    {
     "ename": "AttributeError",
     "evalue": "'NoneType' object has no attribute 'shape'",
     "output_type": "error",
     "traceback": [
      "\u001b[1;31m---------------------------------------------------------------------------\u001b[0m",
      "\u001b[1;31mAttributeError\u001b[0m                            Traceback (most recent call last)",
      "Input \u001b[1;32mIn [5]\u001b[0m, in \u001b[0;36m<cell line: 14>\u001b[1;34m()\u001b[0m\n\u001b[0;32m     11\u001b[0m no_of_vertices \u001b[38;5;241m=\u001b[39m []\n\u001b[0;32m     13\u001b[0m i \u001b[38;5;241m=\u001b[39m \u001b[38;5;241m0\u001b[39m\n\u001b[1;32m---> 14\u001b[0m mask \u001b[38;5;241m=\u001b[39m np\u001b[38;5;241m.\u001b[39mzeros(\u001b[43mimg\u001b[49m\u001b[38;5;241;43m.\u001b[39;49m\u001b[43mshape\u001b[49m,np\u001b[38;5;241m.\u001b[39muint8)\n\u001b[0;32m     15\u001b[0m \u001b[38;5;28;01mfor\u001b[39;00m contour \u001b[38;5;129;01min\u001b[39;00m contours:\n\u001b[0;32m     16\u001b[0m     cnt \u001b[38;5;241m=\u001b[39m contour\n",
      "\u001b[1;31mAttributeError\u001b[0m: 'NoneType' object has no attribute 'shape'"
     ]
    }
   ],
   "source": [
    "import cv2\n",
    "import numpy as np \n",
    "import collections\n",
    "import sys\n",
    "\n",
    "img = cv2.imread(str(sys.argv[1]),0)\n",
    "ret,thresh = cv2.threshold(img,127,255,0)\n",
    "contours,hierarchy = cv2.findContours(thresh,1,2)\n",
    "\n",
    "\n",
    "no_of_vertices = []\n",
    "\n",
    "i = 0\n",
    "mask = np.zeros(img.shape,np.uint8)\n",
    "for contour in contours:\n",
    "    cnt = contour\n",
    "    area = cv2.contourArea(cnt)\n",
    "    if area>150:\n",
    "        epsilon = 0.02*cv2.arcLength(cnt,True)\n",
    "        approx = cv2.approxPolyDP(cnt,epsilon,True)\n",
    "        no_of_vertices.append(len(approx))\n",
    "        \n",
    "    counter = collections.Counter(no_of_vertices)\n",
    "    a,b = counter.keys(),counter.values()\n",
    "    i=0\n",
    "    while i<len(counter):\n",
    "        print (a[i],b[i])\n",
    "        i = i + 1"
   ]
  }
 ],
 "metadata": {
  "kernelspec": {
   "display_name": "Python 3 (ipykernel)",
   "language": "python",
   "name": "python3"
  },
  "language_info": {
   "codemirror_mode": {
    "name": "ipython",
    "version": 3
   },
   "file_extension": ".py",
   "mimetype": "text/x-python",
   "name": "python",
   "nbconvert_exporter": "python",
   "pygments_lexer": "ipython3",
   "version": "3.9.12"
  }
 },
 "nbformat": 4,
 "nbformat_minor": 5
}
